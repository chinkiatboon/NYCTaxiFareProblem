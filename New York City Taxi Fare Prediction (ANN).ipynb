{
 "cells": [
  {
   "cell_type": "code",
   "execution_count": 2,
   "metadata": {},
   "outputs": [
    {
     "name": "stdout",
     "output_type": "stream",
     "text": [
      "Collecting torch\n",
      "  Downloading torch-1.12.0-cp39-cp39-win_amd64.whl (161.8 MB)\n",
      "Requirement already satisfied: typing-extensions in c:\\users\\kiat boon\\anaconda3\\lib\\site-packages (from torch) (4.1.1)\n",
      "Installing collected packages: torch\n",
      "Successfully installed torch-1.12.0\n",
      "Note: you may need to restart the kernel to use updated packages.\n"
     ]
    }
   ],
   "source": [
    "pip install torch"
   ]
  },
  {
   "cell_type": "code",
   "execution_count": 1,
   "metadata": {},
   "outputs": [],
   "source": [
    "import torch\n",
    "from torch import nn\n",
    "\n",
    "import numpy as np\n",
    "import pandas as pd\n",
    "import matplotlib.pyplot as plot\n",
    "from datetime import datetime"
   ]
  },
  {
   "cell_type": "code",
   "execution_count": 28,
   "metadata": {},
   "outputs": [],
   "source": [
    "# dataset = pd.read_csv(\"Data/train.csv\")  # Full dataset from Kaggle\n",
    "\n",
    "dataset = pd.read_csv(\"Data/NYCTaxiFares.csv\")  # Smaller subset of actual data to allow \n",
    "                                                # most computers to run dataset and model effectively"
   ]
  },
  {
   "cell_type": "code",
   "execution_count": 29,
   "metadata": {},
   "outputs": [
    {
     "data": {
      "text/html": [
       "<div>\n",
       "<style scoped>\n",
       "    .dataframe tbody tr th:only-of-type {\n",
       "        vertical-align: middle;\n",
       "    }\n",
       "\n",
       "    .dataframe tbody tr th {\n",
       "        vertical-align: top;\n",
       "    }\n",
       "\n",
       "    .dataframe thead th {\n",
       "        text-align: right;\n",
       "    }\n",
       "</style>\n",
       "<table border=\"1\" class=\"dataframe\">\n",
       "  <thead>\n",
       "    <tr style=\"text-align: right;\">\n",
       "      <th></th>\n",
       "      <th>pickup_datetime</th>\n",
       "      <th>fare_amount</th>\n",
       "      <th>fare_class</th>\n",
       "      <th>pickup_longitude</th>\n",
       "      <th>pickup_latitude</th>\n",
       "      <th>dropoff_longitude</th>\n",
       "      <th>dropoff_latitude</th>\n",
       "      <th>passenger_count</th>\n",
       "    </tr>\n",
       "  </thead>\n",
       "  <tbody>\n",
       "    <tr>\n",
       "      <th>0</th>\n",
       "      <td>2010-04-19 08:17:56 UTC</td>\n",
       "      <td>6.5</td>\n",
       "      <td>0</td>\n",
       "      <td>-73.992365</td>\n",
       "      <td>40.730521</td>\n",
       "      <td>-73.975499</td>\n",
       "      <td>40.744746</td>\n",
       "      <td>1</td>\n",
       "    </tr>\n",
       "    <tr>\n",
       "      <th>1</th>\n",
       "      <td>2010-04-17 15:43:53 UTC</td>\n",
       "      <td>6.9</td>\n",
       "      <td>0</td>\n",
       "      <td>-73.990078</td>\n",
       "      <td>40.740558</td>\n",
       "      <td>-73.974232</td>\n",
       "      <td>40.744114</td>\n",
       "      <td>1</td>\n",
       "    </tr>\n",
       "    <tr>\n",
       "      <th>2</th>\n",
       "      <td>2010-04-17 11:23:26 UTC</td>\n",
       "      <td>10.1</td>\n",
       "      <td>1</td>\n",
       "      <td>-73.994149</td>\n",
       "      <td>40.751118</td>\n",
       "      <td>-73.960064</td>\n",
       "      <td>40.766235</td>\n",
       "      <td>2</td>\n",
       "    </tr>\n",
       "    <tr>\n",
       "      <th>3</th>\n",
       "      <td>2010-04-11 21:25:03 UTC</td>\n",
       "      <td>8.9</td>\n",
       "      <td>0</td>\n",
       "      <td>-73.990485</td>\n",
       "      <td>40.756422</td>\n",
       "      <td>-73.971205</td>\n",
       "      <td>40.748192</td>\n",
       "      <td>1</td>\n",
       "    </tr>\n",
       "    <tr>\n",
       "      <th>4</th>\n",
       "      <td>2010-04-17 02:19:01 UTC</td>\n",
       "      <td>19.7</td>\n",
       "      <td>1</td>\n",
       "      <td>-73.990976</td>\n",
       "      <td>40.734202</td>\n",
       "      <td>-73.905956</td>\n",
       "      <td>40.743115</td>\n",
       "      <td>1</td>\n",
       "    </tr>\n",
       "  </tbody>\n",
       "</table>\n",
       "</div>"
      ],
      "text/plain": [
       "           pickup_datetime  fare_amount  fare_class  pickup_longitude  \\\n",
       "0  2010-04-19 08:17:56 UTC          6.5           0        -73.992365   \n",
       "1  2010-04-17 15:43:53 UTC          6.9           0        -73.990078   \n",
       "2  2010-04-17 11:23:26 UTC         10.1           1        -73.994149   \n",
       "3  2010-04-11 21:25:03 UTC          8.9           0        -73.990485   \n",
       "4  2010-04-17 02:19:01 UTC         19.7           1        -73.990976   \n",
       "\n",
       "   pickup_latitude  dropoff_longitude  dropoff_latitude  passenger_count  \n",
       "0        40.730521         -73.975499         40.744746                1  \n",
       "1        40.740558         -73.974232         40.744114                1  \n",
       "2        40.751118         -73.960064         40.766235                2  \n",
       "3        40.756422         -73.971205         40.748192                1  \n",
       "4        40.734202         -73.905956         40.743115                1  "
      ]
     },
     "execution_count": 29,
     "metadata": {},
     "output_type": "execute_result"
    }
   ],
   "source": [
    "dataset.head()"
   ]
  },
  {
   "cell_type": "code",
   "execution_count": 30,
   "metadata": {},
   "outputs": [
    {
     "data": {
      "text/plain": [
       "120000"
      ]
     },
     "execution_count": 30,
     "metadata": {},
     "output_type": "execute_result"
    }
   ],
   "source": [
    "len(dataset)"
   ]
  },
  {
   "cell_type": "code",
   "execution_count": 31,
   "metadata": {},
   "outputs": [
    {
     "name": "stdout",
     "output_type": "stream",
     "text": [
      "<class 'pandas.core.frame.DataFrame'>\n",
      "RangeIndex: 120000 entries, 0 to 119999\n",
      "Data columns (total 8 columns):\n",
      " #   Column             Non-Null Count   Dtype  \n",
      "---  ------             --------------   -----  \n",
      " 0   pickup_datetime    120000 non-null  object \n",
      " 1   fare_amount        120000 non-null  float64\n",
      " 2   fare_class         120000 non-null  int64  \n",
      " 3   pickup_longitude   120000 non-null  float64\n",
      " 4   pickup_latitude    120000 non-null  float64\n",
      " 5   dropoff_longitude  120000 non-null  float64\n",
      " 6   dropoff_latitude   120000 non-null  float64\n",
      " 7   passenger_count    120000 non-null  int64  \n",
      "dtypes: float64(5), int64(2), object(1)\n",
      "memory usage: 7.3+ MB\n"
     ]
    }
   ],
   "source": [
    "dataset.info()"
   ]
  },
  {
   "cell_type": "code",
   "execution_count": 32,
   "metadata": {},
   "outputs": [],
   "source": [
    "dataset['pickup_datetime'] = pd.to_datetime(dataset['pickup_datetime'])\n",
    "dataset['hour'] = dataset['pickup_datetime'].dt.hour\n",
    "dataset['am_pm'] = np.where(dataset['hour']<12,'am','pm')\n",
    "dataset['day_of_week'] = dataset['pickup_datetime'].dt.dayofweek  # from 0 (monday) to 6 (sunday)\n",
    "dataset['weekday_weekend'] = np.where(dataset['day_of_week']<5,'weekday','weekend')"
   ]
  },
  {
   "cell_type": "code",
   "execution_count": 33,
   "metadata": {},
   "outputs": [
    {
     "data": {
      "text/html": [
       "<div>\n",
       "<style scoped>\n",
       "    .dataframe tbody tr th:only-of-type {\n",
       "        vertical-align: middle;\n",
       "    }\n",
       "\n",
       "    .dataframe tbody tr th {\n",
       "        vertical-align: top;\n",
       "    }\n",
       "\n",
       "    .dataframe thead th {\n",
       "        text-align: right;\n",
       "    }\n",
       "</style>\n",
       "<table border=\"1\" class=\"dataframe\">\n",
       "  <thead>\n",
       "    <tr style=\"text-align: right;\">\n",
       "      <th></th>\n",
       "      <th>pickup_datetime</th>\n",
       "      <th>fare_amount</th>\n",
       "      <th>fare_class</th>\n",
       "      <th>pickup_longitude</th>\n",
       "      <th>pickup_latitude</th>\n",
       "      <th>dropoff_longitude</th>\n",
       "      <th>dropoff_latitude</th>\n",
       "      <th>passenger_count</th>\n",
       "      <th>hour</th>\n",
       "      <th>am_pm</th>\n",
       "      <th>day_of_week</th>\n",
       "      <th>weekday_weekend</th>\n",
       "    </tr>\n",
       "  </thead>\n",
       "  <tbody>\n",
       "    <tr>\n",
       "      <th>0</th>\n",
       "      <td>2010-04-19 08:17:56+00:00</td>\n",
       "      <td>6.5</td>\n",
       "      <td>0</td>\n",
       "      <td>-73.992365</td>\n",
       "      <td>40.730521</td>\n",
       "      <td>-73.975499</td>\n",
       "      <td>40.744746</td>\n",
       "      <td>1</td>\n",
       "      <td>8</td>\n",
       "      <td>am</td>\n",
       "      <td>0</td>\n",
       "      <td>weekday</td>\n",
       "    </tr>\n",
       "    <tr>\n",
       "      <th>1</th>\n",
       "      <td>2010-04-17 15:43:53+00:00</td>\n",
       "      <td>6.9</td>\n",
       "      <td>0</td>\n",
       "      <td>-73.990078</td>\n",
       "      <td>40.740558</td>\n",
       "      <td>-73.974232</td>\n",
       "      <td>40.744114</td>\n",
       "      <td>1</td>\n",
       "      <td>15</td>\n",
       "      <td>pm</td>\n",
       "      <td>5</td>\n",
       "      <td>weekend</td>\n",
       "    </tr>\n",
       "    <tr>\n",
       "      <th>2</th>\n",
       "      <td>2010-04-17 11:23:26+00:00</td>\n",
       "      <td>10.1</td>\n",
       "      <td>1</td>\n",
       "      <td>-73.994149</td>\n",
       "      <td>40.751118</td>\n",
       "      <td>-73.960064</td>\n",
       "      <td>40.766235</td>\n",
       "      <td>2</td>\n",
       "      <td>11</td>\n",
       "      <td>am</td>\n",
       "      <td>5</td>\n",
       "      <td>weekend</td>\n",
       "    </tr>\n",
       "    <tr>\n",
       "      <th>3</th>\n",
       "      <td>2010-04-11 21:25:03+00:00</td>\n",
       "      <td>8.9</td>\n",
       "      <td>0</td>\n",
       "      <td>-73.990485</td>\n",
       "      <td>40.756422</td>\n",
       "      <td>-73.971205</td>\n",
       "      <td>40.748192</td>\n",
       "      <td>1</td>\n",
       "      <td>21</td>\n",
       "      <td>pm</td>\n",
       "      <td>6</td>\n",
       "      <td>weekend</td>\n",
       "    </tr>\n",
       "    <tr>\n",
       "      <th>4</th>\n",
       "      <td>2010-04-17 02:19:01+00:00</td>\n",
       "      <td>19.7</td>\n",
       "      <td>1</td>\n",
       "      <td>-73.990976</td>\n",
       "      <td>40.734202</td>\n",
       "      <td>-73.905956</td>\n",
       "      <td>40.743115</td>\n",
       "      <td>1</td>\n",
       "      <td>2</td>\n",
       "      <td>am</td>\n",
       "      <td>5</td>\n",
       "      <td>weekend</td>\n",
       "    </tr>\n",
       "  </tbody>\n",
       "</table>\n",
       "</div>"
      ],
      "text/plain": [
       "            pickup_datetime  fare_amount  fare_class  pickup_longitude  \\\n",
       "0 2010-04-19 08:17:56+00:00          6.5           0        -73.992365   \n",
       "1 2010-04-17 15:43:53+00:00          6.9           0        -73.990078   \n",
       "2 2010-04-17 11:23:26+00:00         10.1           1        -73.994149   \n",
       "3 2010-04-11 21:25:03+00:00          8.9           0        -73.990485   \n",
       "4 2010-04-17 02:19:01+00:00         19.7           1        -73.990976   \n",
       "\n",
       "   pickup_latitude  dropoff_longitude  dropoff_latitude  passenger_count  \\\n",
       "0        40.730521         -73.975499         40.744746                1   \n",
       "1        40.740558         -73.974232         40.744114                1   \n",
       "2        40.751118         -73.960064         40.766235                2   \n",
       "3        40.756422         -73.971205         40.748192                1   \n",
       "4        40.734202         -73.905956         40.743115                1   \n",
       "\n",
       "   hour am_pm  day_of_week weekday_weekend  \n",
       "0     8    am            0         weekday  \n",
       "1    15    pm            5         weekend  \n",
       "2    11    am            5         weekend  \n",
       "3    21    pm            6         weekend  \n",
       "4     2    am            5         weekend  "
      ]
     },
     "execution_count": 33,
     "metadata": {},
     "output_type": "execute_result"
    }
   ],
   "source": [
    "dataset.head()"
   ]
  },
  {
   "cell_type": "code",
   "execution_count": 34,
   "metadata": {},
   "outputs": [],
   "source": [
    "from sklearn.metrics.pairwise import haversine_distances\n",
    "from math import radians\n",
    "\n",
    "def distance(lat1, long1, lat2, long2):\n",
    "    location1 = [radians(lat1), radians(long1)]\n",
    "    location2 = [radians(lat2), radians(long2)]\n",
    "    result = haversine_distances([location1,location2]) * 6371000/1000  # multiply by earth radius\n",
    "    \n",
    "    return max(result[0])"
   ]
  },
  {
   "cell_type": "code",
   "execution_count": 35,
   "metadata": {},
   "outputs": [
    {
     "data": {
      "text/plain": [
       "3.1980793177511013"
      ]
     },
     "execution_count": 35,
     "metadata": {},
     "output_type": "execute_result"
    }
   ],
   "source": [
    "distance(1.28927550956,103.851328261,1.30258712298,103.825826697)  # Distance from City Hall MRT to Orchard MRT in km"
   ]
  },
  {
   "cell_type": "code",
   "execution_count": 36,
   "metadata": {},
   "outputs": [],
   "source": [
    "dataset['distance'] = dataset.apply(lambda row: distance(row.pickup_latitude,row.pickup_longitude,row.dropoff_latitude,row.dropoff_longitude),axis=1)"
   ]
  },
  {
   "cell_type": "code",
   "execution_count": 37,
   "metadata": {
    "scrolled": true
   },
   "outputs": [
    {
     "data": {
      "text/html": [
       "<div>\n",
       "<style scoped>\n",
       "    .dataframe tbody tr th:only-of-type {\n",
       "        vertical-align: middle;\n",
       "    }\n",
       "\n",
       "    .dataframe tbody tr th {\n",
       "        vertical-align: top;\n",
       "    }\n",
       "\n",
       "    .dataframe thead th {\n",
       "        text-align: right;\n",
       "    }\n",
       "</style>\n",
       "<table border=\"1\" class=\"dataframe\">\n",
       "  <thead>\n",
       "    <tr style=\"text-align: right;\">\n",
       "      <th></th>\n",
       "      <th>pickup_datetime</th>\n",
       "      <th>fare_amount</th>\n",
       "      <th>fare_class</th>\n",
       "      <th>pickup_longitude</th>\n",
       "      <th>pickup_latitude</th>\n",
       "      <th>dropoff_longitude</th>\n",
       "      <th>dropoff_latitude</th>\n",
       "      <th>passenger_count</th>\n",
       "      <th>hour</th>\n",
       "      <th>am_pm</th>\n",
       "      <th>day_of_week</th>\n",
       "      <th>weekday_weekend</th>\n",
       "      <th>distance</th>\n",
       "    </tr>\n",
       "  </thead>\n",
       "  <tbody>\n",
       "    <tr>\n",
       "      <th>0</th>\n",
       "      <td>2010-04-19 08:17:56+00:00</td>\n",
       "      <td>6.5</td>\n",
       "      <td>0</td>\n",
       "      <td>-73.992365</td>\n",
       "      <td>40.730521</td>\n",
       "      <td>-73.975499</td>\n",
       "      <td>40.744746</td>\n",
       "      <td>1</td>\n",
       "      <td>8</td>\n",
       "      <td>am</td>\n",
       "      <td>0</td>\n",
       "      <td>weekday</td>\n",
       "      <td>2.126312</td>\n",
       "    </tr>\n",
       "    <tr>\n",
       "      <th>1</th>\n",
       "      <td>2010-04-17 15:43:53+00:00</td>\n",
       "      <td>6.9</td>\n",
       "      <td>0</td>\n",
       "      <td>-73.990078</td>\n",
       "      <td>40.740558</td>\n",
       "      <td>-73.974232</td>\n",
       "      <td>40.744114</td>\n",
       "      <td>1</td>\n",
       "      <td>15</td>\n",
       "      <td>pm</td>\n",
       "      <td>5</td>\n",
       "      <td>weekend</td>\n",
       "      <td>1.392307</td>\n",
       "    </tr>\n",
       "    <tr>\n",
       "      <th>2</th>\n",
       "      <td>2010-04-17 11:23:26+00:00</td>\n",
       "      <td>10.1</td>\n",
       "      <td>1</td>\n",
       "      <td>-73.994149</td>\n",
       "      <td>40.751118</td>\n",
       "      <td>-73.960064</td>\n",
       "      <td>40.766235</td>\n",
       "      <td>2</td>\n",
       "      <td>11</td>\n",
       "      <td>am</td>\n",
       "      <td>5</td>\n",
       "      <td>weekend</td>\n",
       "      <td>3.326763</td>\n",
       "    </tr>\n",
       "    <tr>\n",
       "      <th>3</th>\n",
       "      <td>2010-04-11 21:25:03+00:00</td>\n",
       "      <td>8.9</td>\n",
       "      <td>0</td>\n",
       "      <td>-73.990485</td>\n",
       "      <td>40.756422</td>\n",
       "      <td>-73.971205</td>\n",
       "      <td>40.748192</td>\n",
       "      <td>1</td>\n",
       "      <td>21</td>\n",
       "      <td>pm</td>\n",
       "      <td>6</td>\n",
       "      <td>weekend</td>\n",
       "      <td>1.864129</td>\n",
       "    </tr>\n",
       "    <tr>\n",
       "      <th>4</th>\n",
       "      <td>2010-04-17 02:19:01+00:00</td>\n",
       "      <td>19.7</td>\n",
       "      <td>1</td>\n",
       "      <td>-73.990976</td>\n",
       "      <td>40.734202</td>\n",
       "      <td>-73.905956</td>\n",
       "      <td>40.743115</td>\n",
       "      <td>1</td>\n",
       "      <td>2</td>\n",
       "      <td>am</td>\n",
       "      <td>5</td>\n",
       "      <td>weekend</td>\n",
       "      <td>7.231321</td>\n",
       "    </tr>\n",
       "  </tbody>\n",
       "</table>\n",
       "</div>"
      ],
      "text/plain": [
       "            pickup_datetime  fare_amount  fare_class  pickup_longitude  \\\n",
       "0 2010-04-19 08:17:56+00:00          6.5           0        -73.992365   \n",
       "1 2010-04-17 15:43:53+00:00          6.9           0        -73.990078   \n",
       "2 2010-04-17 11:23:26+00:00         10.1           1        -73.994149   \n",
       "3 2010-04-11 21:25:03+00:00          8.9           0        -73.990485   \n",
       "4 2010-04-17 02:19:01+00:00         19.7           1        -73.990976   \n",
       "\n",
       "   pickup_latitude  dropoff_longitude  dropoff_latitude  passenger_count  \\\n",
       "0        40.730521         -73.975499         40.744746                1   \n",
       "1        40.740558         -73.974232         40.744114                1   \n",
       "2        40.751118         -73.960064         40.766235                2   \n",
       "3        40.756422         -73.971205         40.748192                1   \n",
       "4        40.734202         -73.905956         40.743115                1   \n",
       "\n",
       "   hour am_pm  day_of_week weekday_weekend  distance  \n",
       "0     8    am            0         weekday  2.126312  \n",
       "1    15    pm            5         weekend  1.392307  \n",
       "2    11    am            5         weekend  3.326763  \n",
       "3    21    pm            6         weekend  1.864129  \n",
       "4     2    am            5         weekend  7.231321  "
      ]
     },
     "execution_count": 37,
     "metadata": {},
     "output_type": "execute_result"
    }
   ],
   "source": [
    "dataset.head()"
   ]
  },
  {
   "cell_type": "code",
   "execution_count": 38,
   "metadata": {},
   "outputs": [],
   "source": [
    "# Note: Passenger count should not affect fare price, hence not included \n",
    "cat= ['am_pm','weekday_weekend','day_of_week']  \n",
    "cont = ['pickup_longitude',  # Maybe some locations are prone to traffic jams --> Higher taxi meter fare?\n",
    "        'pickup_latitude',\n",
    "        'dropoff_longitude',\n",
    "        'dropoff_latitude',\n",
    "        'hour',\n",
    "        'distance']\n",
    "label = ['fare_amount']"
   ]
  },
  {
   "cell_type": "code",
   "execution_count": 39,
   "metadata": {},
   "outputs": [
    {
     "data": {
      "text/plain": [
       "tensor([[0, 0, 0],\n",
       "        [1, 1, 5],\n",
       "        [0, 1, 5],\n",
       "        ...,\n",
       "        [1, 1, 6],\n",
       "        [0, 0, 1],\n",
       "        [1, 1, 5]], dtype=torch.int32)"
      ]
     },
     "execution_count": 39,
     "metadata": {},
     "output_type": "execute_result"
    }
   ],
   "source": [
    "for item in cat:\n",
    "    dataset[item] = dataset[item].astype('category')\n",
    "\n",
    "cat_stack = np.stack([dataset[item].cat.codes.values for item in cat], axis = 1)\n",
    "cat_stack = torch.tensor(cat_stack, dtype = torch.int32)\n",
    "cat_stack"
   ]
  },
  {
   "cell_type": "code",
   "execution_count": 40,
   "metadata": {},
   "outputs": [
    {
     "data": {
      "text/plain": [
       "tensor([[-73.9924,  40.7305, -73.9755,  40.7447,   8.0000,   2.1263],\n",
       "        [-73.9901,  40.7406, -73.9742,  40.7441,  15.0000,   1.3923],\n",
       "        [-73.9941,  40.7511, -73.9601,  40.7662,  11.0000,   3.3268],\n",
       "        ...,\n",
       "        [-73.9886,  40.7498, -74.0115,  40.7078,  18.0000,   5.0525],\n",
       "        [-74.0044,  40.7245, -73.9927,  40.7308,   8.0000,   1.2089],\n",
       "        [-73.9554,  40.7719, -73.9676,  40.7630,  16.0000,   1.4274]])"
      ]
     },
     "execution_count": 40,
     "metadata": {},
     "output_type": "execute_result"
    }
   ],
   "source": [
    "cont_stack = np.stack([dataset[item].values for item in cont], axis = 1)\n",
    "cont_stack = torch.tensor(cont_stack, dtype = torch.float32)\n",
    "cont_stack"
   ]
  },
  {
   "cell_type": "code",
   "execution_count": 41,
   "metadata": {
    "scrolled": true
   },
   "outputs": [
    {
     "data": {
      "text/plain": [
       "tensor([[ 6.5000],\n",
       "        [ 6.9000],\n",
       "        [10.1000],\n",
       "        ...,\n",
       "        [12.5000],\n",
       "        [ 4.9000],\n",
       "        [ 5.3000]])"
      ]
     },
     "execution_count": 41,
     "metadata": {},
     "output_type": "execute_result"
    }
   ],
   "source": [
    "label = torch.tensor(dataset[label].values, dtype = torch.float32)\n",
    "label"
   ]
  },
  {
   "cell_type": "code",
   "execution_count": 42,
   "metadata": {},
   "outputs": [
    {
     "data": {
      "text/plain": [
       "[(2, 1), (2, 1), (7, 4)]"
      ]
     },
     "execution_count": 42,
     "metadata": {},
     "output_type": "execute_result"
    }
   ],
   "source": [
    "cat_sizes = [len(dataset[item].unique()) for item in cat] \n",
    "cat_embed_sizes = [(size, (size+1)//2) for size in cat_sizes]\n",
    "cat_embed_sizes  # Category size and corresponding dimensions used for embedding layer"
   ]
  },
  {
   "cell_type": "code",
   "execution_count": 43,
   "metadata": {},
   "outputs": [],
   "source": [
    "class TaxiANN(nn.Module):\n",
    "    \n",
    "    def __init__(self, embed_sizes, n_cont, layers, n_output, dropout=0.5):\n",
    "        \"\"\"\n",
    "        Sets up categorical input embedding, continuous input normalizing, and additional layers as required.\n",
    "        \n",
    "        Args:\n",
    "            embed_sizes (:obj: `list` of :obj: `(int,int)`): List of tuples containing number of categories \n",
    "                and how many dimensions to embed into, for each categorical input\n",
    "            n_cont (int): Number of continuous inputs in total\n",
    "            layers (:obj: `list` of :obj: `int`): List of values for number of input nodes of additional layers\n",
    "            n_output (int): Number of output nodes (eg labels)\n",
    "            dropout (int): p value for dropout layer (0 <= p <= 1)\n",
    "            \n",
    "        \"\"\"\n",
    "        super().__init__()\n",
    "        \n",
    "        self.embeds = nn.ModuleList([nn.Embedding(i,j) for i,j in embed_sizes])\n",
    "        self.emb_drop = nn.Dropout(dropout)\n",
    "        self.batch_norm = nn.BatchNorm1d(n_cont)\n",
    "        \n",
    "        n_embed = sum([j for _,j in embed_sizes])\n",
    "        n_in = n_embed + n_cont\n",
    "        \n",
    "        layer_list = []\n",
    "        for layer in layers:\n",
    "            layer_list.append(nn.Linear(n_in,layer))\n",
    "            layer_list.append(nn.ReLU(inplace=True))\n",
    "            layer_list.append(nn.BatchNorm1d(layer))\n",
    "            layer_list.append(nn.Dropout(dropout))\n",
    "            n_in = layer\n",
    "            \n",
    "        layer_list.append(nn.Linear(layers[-1],n_output))\n",
    "        \n",
    "        self.layers = nn.Sequential(*layer_list)\n",
    "        \n",
    "    def forward(self, x_cat, x_cont):\n",
    "        \"\"\"\n",
    "        Forward method.\n",
    "        \n",
    "        Args:\n",
    "            x_cat (:obj: `tensor`): Input categorical data\n",
    "            x_cont (:onj: `tensor`): Input continuous data\n",
    "        \"\"\"\n",
    "        embeddings = []\n",
    "        for i,e in enumerate(self.embeds):\n",
    "            embeddings.append(e(x_cat[:,i]))       # Obtain embedding of category using corresponding embedding layer\n",
    "                                                   # and stores it in embeddings list\n",
    "                \n",
    "        x = torch.cat(embeddings, dim=1)       # For each record, concatenate embedded categorical features onto \n",
    "                                               # single row\n",
    "        x = self.emb_drop(x)\n",
    "\n",
    "        x_cont = self.batch_norm(x_cont)\n",
    "        x = torch.cat([x, x_cont], dim=1)      # For each record, concatenate categorical and continuous features \n",
    "                                               # onto single row\n",
    "        x = self.layers(x)\n",
    "        return x\n",
    "        "
   ]
  },
  {
   "cell_type": "code",
   "execution_count": 104,
   "metadata": {},
   "outputs": [],
   "source": [
    "model = TaxiANN(cat_embed_sizes,len(cont),[150,100],1,dropout=0.4)"
   ]
  },
  {
   "cell_type": "code",
   "execution_count": 105,
   "metadata": {},
   "outputs": [
    {
     "data": {
      "text/plain": [
       "TaxiANN(\n",
       "  (embeds): ModuleList(\n",
       "    (0): Embedding(2, 1)\n",
       "    (1): Embedding(2, 1)\n",
       "    (2): Embedding(7, 4)\n",
       "  )\n",
       "  (emb_drop): Dropout(p=0.4, inplace=False)\n",
       "  (batch_norm): BatchNorm1d(6, eps=1e-05, momentum=0.1, affine=True, track_running_stats=True)\n",
       "  (layers): Sequential(\n",
       "    (0): Linear(in_features=12, out_features=150, bias=True)\n",
       "    (1): ReLU(inplace=True)\n",
       "    (2): BatchNorm1d(150, eps=1e-05, momentum=0.1, affine=True, track_running_stats=True)\n",
       "    (3): Dropout(p=0.4, inplace=False)\n",
       "    (4): Linear(in_features=150, out_features=100, bias=True)\n",
       "    (5): ReLU(inplace=True)\n",
       "    (6): BatchNorm1d(100, eps=1e-05, momentum=0.1, affine=True, track_running_stats=True)\n",
       "    (7): Dropout(p=0.4, inplace=False)\n",
       "    (8): Linear(in_features=100, out_features=1, bias=True)\n",
       "  )\n",
       ")"
      ]
     },
     "execution_count": 105,
     "metadata": {},
     "output_type": "execute_result"
    }
   ],
   "source": [
    "model"
   ]
  },
  {
   "cell_type": "code",
   "execution_count": 106,
   "metadata": {},
   "outputs": [],
   "source": [
    "criterion = nn.MSELoss()\n",
    "optimizer = torch.optim.Adam(model.parameters(), lr = 0.01)"
   ]
  },
  {
   "cell_type": "code",
   "execution_count": 107,
   "metadata": {},
   "outputs": [],
   "source": [
    "train_prop = 0.8\n",
    "train_cat = cat_stack[:int(train_prop*len(cat_stack))]\n",
    "test_cat = cat_stack[int(train_prop*len(cat_stack)):]\n",
    "\n",
    "train_cont = cont_stack[:int(train_prop*len(cont_stack))]\n",
    "test_cont = cont_stack[int(train_prop*len(cont_stack)):]\n",
    "\n",
    "train_label = label[:int(train_prop*len(label))]\n",
    "test_label = label[int(train_prop*len(label)):]"
   ]
  },
  {
   "cell_type": "code",
   "execution_count": 108,
   "metadata": {},
   "outputs": [
    {
     "name": "stdout",
     "output_type": "stream",
     "text": [
      "Epoch   1: Loss value is 12.69050789\n",
      "Epoch  11: Loss value is 9.64957333\n",
      "Epoch  21: Loss value is 8.02846527\n",
      "Epoch  31: Loss value is 5.08592415\n",
      "Epoch  41: Loss value is 4.06750822\n",
      "Epoch  51: Loss value is 3.58472347\n",
      "Epoch  61: Loss value is 3.52528048\n",
      "Epoch  71: Loss value is 3.42127585\n",
      "Epoch  81: Loss value is 3.36014795\n",
      "Epoch  91: Loss value is 3.33518100\n",
      "Epoch 101: Loss value is 3.32123852\n",
      "Epoch 111: Loss value is 3.28959584\n",
      "Epoch 121: Loss value is 3.28578019\n",
      "Epoch 131: Loss value is 3.29360008\n",
      "Epoch 141: Loss value is 3.27064919\n",
      "Epoch 151: Loss value is 3.26495147\n",
      "Epoch 161: Loss value is 3.25487280\n",
      "Epoch 171: Loss value is 3.25507903\n",
      "Epoch 181: Loss value is 3.24058366\n",
      "Epoch 191: Loss value is 3.24226332\n",
      "Epoch 201: Loss value is 3.22978711\n",
      "Epoch 211: Loss value is 3.22463822\n",
      "Epoch 221: Loss value is 3.21567726\n",
      "Epoch 231: Loss value is 3.23900676\n",
      "Epoch 241: Loss value is 3.21161366\n",
      "Epoch 251: Loss value is 3.22201252\n",
      "Epoch 261: Loss value is 3.20715809\n",
      "Epoch 271: Loss value is 3.20932174\n",
      "Epoch 281: Loss value is 3.21422958\n",
      "Epoch 291: Loss value is 3.21076798\n",
      "Epoch 301: Loss value is 3.18876767\n",
      "Epoch 311: Loss value is 3.19333625\n",
      "Epoch 321: Loss value is 3.19362164\n",
      "Epoch 331: Loss value is 3.17498469\n",
      "Epoch 341: Loss value is 3.19089079\n",
      "Epoch 351: Loss value is 3.17349362\n",
      "Epoch 361: Loss value is 3.16904402\n",
      "Epoch 371: Loss value is 3.16751552\n",
      "Epoch 381: Loss value is 3.17579937\n",
      "Epoch 391: Loss value is 3.16819406\n",
      "Epoch 401: Loss value is 3.16672111\n",
      "Epoch 411: Loss value is 3.16742253\n",
      "Epoch 421: Loss value is 3.15019345\n",
      "Epoch 431: Loss value is 3.15678883\n",
      "Epoch 441: Loss value is 3.16036248\n",
      "Epoch 451: Loss value is 3.16244030\n",
      "Epoch 461: Loss value is 3.16263676\n",
      "Epoch 471: Loss value is 3.16454029\n",
      "Epoch 481: Loss value is 3.15404868\n",
      "Epoch 491: Loss value is 3.13683510\n",
      "Epoch 501: Loss value is 3.13941479\n",
      "Epoch 511: Loss value is 3.14316487\n",
      "Epoch 521: Loss value is 3.13374496\n",
      "Epoch 531: Loss value is 3.14032316\n",
      "Epoch 541: Loss value is 3.14724040\n",
      "Epoch 551: Loss value is 3.13748360\n",
      "Epoch 561: Loss value is 3.14252377\n",
      "Epoch 571: Loss value is 3.14837074\n",
      "Epoch 581: Loss value is 3.13450670\n",
      "Epoch 591: Loss value is 3.13938642\n",
      "Epoch 600: Loss value is 3.14160752\n",
      "Duration taken: 0:05:23.998289\n"
     ]
    }
   ],
   "source": [
    "start_time = datetime.now()\n",
    "\n",
    "epochs = 600\n",
    "loss_list = []\n",
    "\n",
    "for i in range(epochs):\n",
    "    pred = model(train_cat, train_cont)\n",
    "    loss = torch.sqrt(criterion(pred, train_label))\n",
    "    loss_list.append(loss.detach().numpy())\n",
    "\n",
    "    if i%10 == 0:\n",
    "        print(f'Epoch {i+1:3}: Loss value is {loss:10.8f}')\n",
    "    \n",
    "    optimizer.zero_grad()\n",
    "    loss.backward()\n",
    "    optimizer.step()\n",
    "\n",
    "print(f'Epoch {i+1:3}: Loss value is {loss:10.8f}')    \n",
    "print(f'Duration taken: {datetime.now()-start_time}')"
   ]
  },
  {
   "cell_type": "code",
   "execution_count": 110,
   "metadata": {},
   "outputs": [
    {
     "data": {
      "text/plain": [
       "[<matplotlib.lines.Line2D at 0x7fcbd3608460>]"
      ]
     },
     "execution_count": 110,
     "metadata": {},
     "output_type": "execute_result"
    },
    {
     "data": {
      "image/png": "[encoded data removed]",
      "text/plain": [
       "<Figure size 432x288 with 1 Axes>"
      ]
     },
     "metadata": {
      "needs_background": "light"
     },
     "output_type": "display_data"
    }
   ],
   "source": [
    "plot.plot(range(epochs),loss_list)"
   ]
  },
  {
   "cell_type": "code",
   "execution_count": 111,
   "metadata": {},
   "outputs": [
    {
     "name": "stdout",
     "output_type": "stream",
     "text": [
      "RMSE value of 3.26261043548584\n"
     ]
    }
   ],
   "source": [
    "with torch.no_grad():\n",
    "    pred = model.forward(test_cat, test_cont)\n",
    "    loss = torch.sqrt(criterion(pred,test_label))\n",
    "    \n",
    "print(f'RMSE value of {loss}')"
   ]
  },
  {
   "cell_type": "code",
   "execution_count": 112,
   "metadata": {},
   "outputs": [],
   "source": [
    "torch.save(model.state_dict(),'TaxiANN.pt')"
   ]
  },
  {
   "cell_type": "markdown",
   "metadata": {},
   "source": [
    "## Prediction on Kaggle test set"
   ]
  },
  {
   "cell_type": "code",
   "execution_count": 113,
   "metadata": {},
   "outputs": [],
   "source": [
    "test_set = pd.read_csv(\"Data/NYCTaxiFares_test.csv\")"
   ]
  },
  {
   "cell_type": "code",
   "execution_count": 116,
   "metadata": {},
   "outputs": [],
   "source": [
    "test_set['pickup_datetime'] = pd.to_datetime(test_set['pickup_datetime'])\n",
    "test_set['hour'] = test_set['pickup_datetime'].dt.hour\n",
    "test_set['am_pm'] = np.where(test_set['hour']<12,'am','pm')\n",
    "test_set['day_of_week'] = test_set['pickup_datetime'].dt.dayofweek  # from 0 (monday) to 6 (sunday)\n",
    "test_set['weekday_weekend'] = np.where(test_set['day_of_week']<5,'weekday','weekend')    \n",
    "test_set['distance'] = test_set.apply(lambda row: distance(row.pickup_latitude,row.pickup_longitude,row.dropoff_latitude,row.dropoff_longitude),axis=1)    \n",
    "\n",
    "for item in cat:\n",
    "    test_set[item] = test_set[item].astype('category')\n",
    "    \n",
    "cat_stack = np.stack([test_set[item].cat.codes.values for item in cat], axis = 1)\n",
    "cat_stack = torch.tensor(cat_stack, dtype = torch.int32)\n",
    "\n",
    "cont_stack = np.stack([test_set[item].values for item in cont], axis = 1)\n",
    "cont_stack = torch.tensor(cont_stack, dtype = torch.float32)\n",
    "\n",
    "with torch.no_grad():\n",
    "    pred = model.forward(cat_stack, cont_stack)"
   ]
  },
  {
   "cell_type": "code",
   "execution_count": 118,
   "metadata": {},
   "outputs": [
    {
     "data": {
      "text/html": [
       "<div>\n",
       "<style scoped>\n",
       "    .dataframe tbody tr th:only-of-type {\n",
       "        vertical-align: middle;\n",
       "    }\n",
       "\n",
       "    .dataframe tbody tr th {\n",
       "        vertical-align: top;\n",
       "    }\n",
       "\n",
       "    .dataframe thead th {\n",
       "        text-align: right;\n",
       "    }\n",
       "</style>\n",
       "<table border=\"1\" class=\"dataframe\">\n",
       "  <thead>\n",
       "    <tr style=\"text-align: right;\">\n",
       "      <th></th>\n",
       "      <th>key</th>\n",
       "      <th>pickup_datetime</th>\n",
       "      <th>pickup_longitude</th>\n",
       "      <th>pickup_latitude</th>\n",
       "      <th>dropoff_longitude</th>\n",
       "      <th>dropoff_latitude</th>\n",
       "      <th>passenger_count</th>\n",
       "      <th>hour</th>\n",
       "      <th>am_pm</th>\n",
       "      <th>day_of_week</th>\n",
       "      <th>weekday_weekend</th>\n",
       "      <th>distance</th>\n",
       "    </tr>\n",
       "  </thead>\n",
       "  <tbody>\n",
       "    <tr>\n",
       "      <th>0</th>\n",
       "      <td>2015-01-27 13:08:24.0000002</td>\n",
       "      <td>2015-01-27 13:08:24+00:00</td>\n",
       "      <td>-73.973320</td>\n",
       "      <td>40.763805</td>\n",
       "      <td>-73.981430</td>\n",
       "      <td>40.743835</td>\n",
       "      <td>1</td>\n",
       "      <td>13</td>\n",
       "      <td>pm</td>\n",
       "      <td>1</td>\n",
       "      <td>weekday</td>\n",
       "      <td>2.323260</td>\n",
       "    </tr>\n",
       "    <tr>\n",
       "      <th>1</th>\n",
       "      <td>2015-01-27 13:08:24.0000003</td>\n",
       "      <td>2015-01-27 13:08:24+00:00</td>\n",
       "      <td>-73.986862</td>\n",
       "      <td>40.719383</td>\n",
       "      <td>-73.998886</td>\n",
       "      <td>40.739201</td>\n",
       "      <td>1</td>\n",
       "      <td>13</td>\n",
       "      <td>pm</td>\n",
       "      <td>1</td>\n",
       "      <td>weekday</td>\n",
       "      <td>2.425353</td>\n",
       "    </tr>\n",
       "    <tr>\n",
       "      <th>2</th>\n",
       "      <td>2011-10-08 11:53:44.0000002</td>\n",
       "      <td>2011-10-08 11:53:44+00:00</td>\n",
       "      <td>-73.982524</td>\n",
       "      <td>40.751260</td>\n",
       "      <td>-73.979654</td>\n",
       "      <td>40.746139</td>\n",
       "      <td>1</td>\n",
       "      <td>11</td>\n",
       "      <td>am</td>\n",
       "      <td>5</td>\n",
       "      <td>weekend</td>\n",
       "      <td>0.618628</td>\n",
       "    </tr>\n",
       "    <tr>\n",
       "      <th>3</th>\n",
       "      <td>2012-12-01 21:12:12.0000002</td>\n",
       "      <td>2012-12-01 21:12:12+00:00</td>\n",
       "      <td>-73.981160</td>\n",
       "      <td>40.767807</td>\n",
       "      <td>-73.990448</td>\n",
       "      <td>40.751635</td>\n",
       "      <td>1</td>\n",
       "      <td>21</td>\n",
       "      <td>pm</td>\n",
       "      <td>5</td>\n",
       "      <td>weekend</td>\n",
       "      <td>1.961033</td>\n",
       "    </tr>\n",
       "    <tr>\n",
       "      <th>4</th>\n",
       "      <td>2012-12-01 21:12:12.0000003</td>\n",
       "      <td>2012-12-01 21:12:12+00:00</td>\n",
       "      <td>-73.966046</td>\n",
       "      <td>40.789775</td>\n",
       "      <td>-73.988565</td>\n",
       "      <td>40.744427</td>\n",
       "      <td>1</td>\n",
       "      <td>21</td>\n",
       "      <td>pm</td>\n",
       "      <td>5</td>\n",
       "      <td>weekend</td>\n",
       "      <td>5.387301</td>\n",
       "    </tr>\n",
       "  </tbody>\n",
       "</table>\n",
       "</div>"
      ],
      "text/plain": [
       "                           key           pickup_datetime  pickup_longitude  \\\n",
       "0  2015-01-27 13:08:24.0000002 2015-01-27 13:08:24+00:00        -73.973320   \n",
       "1  2015-01-27 13:08:24.0000003 2015-01-27 13:08:24+00:00        -73.986862   \n",
       "2  2011-10-08 11:53:44.0000002 2011-10-08 11:53:44+00:00        -73.982524   \n",
       "3  2012-12-01 21:12:12.0000002 2012-12-01 21:12:12+00:00        -73.981160   \n",
       "4  2012-12-01 21:12:12.0000003 2012-12-01 21:12:12+00:00        -73.966046   \n",
       "\n",
       "   pickup_latitude  dropoff_longitude  dropoff_latitude  passenger_count  \\\n",
       "0        40.763805         -73.981430         40.743835                1   \n",
       "1        40.719383         -73.998886         40.739201                1   \n",
       "2        40.751260         -73.979654         40.746139                1   \n",
       "3        40.767807         -73.990448         40.751635                1   \n",
       "4        40.789775         -73.988565         40.744427                1   \n",
       "\n",
       "   hour am_pm day_of_week weekday_weekend  distance  \n",
       "0    13    pm           1         weekday  2.323260  \n",
       "1    13    pm           1         weekday  2.425353  \n",
       "2    11    am           5         weekend  0.618628  \n",
       "3    21    pm           5         weekend  1.961033  \n",
       "4    21    pm           5         weekend  5.387301  "
      ]
     },
     "execution_count": 118,
     "metadata": {},
     "output_type": "execute_result"
    }
   ],
   "source": [
    "test_set.head()"
   ]
  },
  {
   "cell_type": "code",
   "execution_count": 127,
   "metadata": {},
   "outputs": [],
   "source": [
    "pd.DataFrame({'key':test_set['key'],'fare_amount':pred.numpy().squeeze()}).to_csv('submission.csv',index=False)"
   ]
  },
  {
   "cell_type": "markdown",
   "metadata": {},
   "source": [
    "## Results"
   ]
  },
  {
   "cell_type": "markdown",
   "metadata": {},
   "source": [
    "Score obtained: 5.24796 (The lower the better)"
   ]
  },
  {
   "cell_type": "markdown",
   "metadata": {},
   "source": [
    "<img src=\"Images/Kaggle score.jpg\" height=\"400\" width=\"450\"/>"
   ]
  },
  {
   "cell_type": "markdown",
   "metadata": {},
   "source": [
    "Average score on Kaggle leaderboard: 9.40949"
   ]
  },
  {
   "cell_type": "markdown",
   "metadata": {},
   "source": [
    "<img src=\"Images/Average.jpg\" height=\"400\" width=\"450\"/>"
   ]
  },
  {
   "cell_type": "markdown",
   "metadata": {},
   "source": [
    "Further improvements could be made by using the full dataset, where a desktop computer (and a GPU) may have to be used to speed up training time. Model hyperparameters could be fine-tuned as well."
   ]
  }
 ],
 "metadata": {
  "kernelspec": {
   "display_name": "Python 3 (ipykernel)",
   "language": "python",
   "name": "python3"
  },
  "language_info": {
   "codemirror_mode": {
    "name": "ipython",
    "version": 3
   },
   "file_extension": ".py",
   "mimetype": "text/x-python",
   "name": "python",
   "nbconvert_exporter": "python",
   "pygments_lexer": "ipython3",
   "version": "3.9.12"
  }
 },
 "nbformat": 4,
 "nbformat_minor": 4
}
